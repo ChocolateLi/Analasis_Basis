{
 "cells": [
  {
   "cell_type": "markdown",
   "metadata": {},
   "source": [
    "[openpyxl参考链接](http://yumos.gitee.io/openpyxl3.0/index.html#document-tutorial)  \n",
    "pip使用镜像安装：`pip install -U openpyxl -i https://pypi.douban.com/simple`\n",
    "pip install -U python-docx -i https://pypi.douban.com/simple"
   ]
  },
  {
   "cell_type": "code",
   "execution_count": 1,
   "metadata": {},
   "outputs": [],
   "source": [
    "# 1. 模块导入\n",
    "import openpyxl\n",
    "from openpyxl import Workbook "
   ]
  },
  {
   "cell_type": "code",
   "execution_count": 4,
   "metadata": {},
   "outputs": [],
   "source": [
    "# 2. 创建空白工作薄并保存\n",
    "#wb一个文件(excle文件)\n",
    "wb = openpyxl.Workbook()\n",
    "#保存一下\n",
    "#绝对路径: 完整路径 : C/SYSM/DESKTOP/excle/datafile/work.xlsx\n",
    "#相对路径:\n",
    "wb.save('./datafile/work1.xlsx')"
   ]
  },
  {
   "cell_type": "code",
   "execution_count": 5,
   "metadata": {},
   "outputs": [],
   "source": [
    "# 3. 创建工作表并保存\n",
    "\n",
    "wb = Workbook()\n",
    "wb.create_sheet('ws1')\n",
    "wb.create_sheet('ws2',0)\n",
    "#千万不能忘了保存\n",
    "\n",
    "wb.save('./datafile/work2.xlsx')\n"
   ]
  },
  {
   "cell_type": "code",
   "execution_count": 14,
   "metadata": {},
   "outputs": [
    {
     "name": "stdout",
     "output_type": "stream",
     "text": [
      "['默认', 'Sheet', 'ws1']\n"
     ]
    }
   ],
   "source": [
    "# 4. 读取文件\n",
    "from openpyxl import load_workbook \n",
    "wb = load_workbook('./datafile/work2.xlsx')\n",
    "\n",
    "#查看表名\n",
    "print(wb.sheetnames)\n",
    "\n",
    "#修改表名\n",
    "# defalut = wb.active\n",
    "# defalut.title = \"默认\"\n",
    "\n",
    "sheet = wb['Sheet']\n",
    "sheet.title = \"表一\"\n",
    "wb.save('./datafile/work2.xlsx')"
   ]
  },
  {
   "cell_type": "code",
   "execution_count": 5,
   "metadata": {},
   "outputs": [
    {
     "name": "stdout",
     "output_type": "stream",
     "text": [
      "7\n",
      "2\n",
      "(<Cell '读'.A1>, <Cell '读'.A2>, <Cell '读'.A3>, <Cell '读'.A4>, <Cell '读'.A5>, <Cell '读'.A6>, <Cell '读'.A7>)\n",
      "(<Cell '读'.A1>, <Cell '读'.B1>)\n",
      "1\n"
     ]
    }
   ],
   "source": [
    "# 5. 读取表中的数据 \n",
    "from openpyxl import load_workbook  \n",
    "\n",
    "wb = load_workbook('./datafile/读写.xlsx')\n",
    "#确定读取哪个表\n",
    "sheet = wb['读']\n",
    "\n",
    "#获取最大行\n",
    "print(sheet.max_row)\n",
    "#获取最大列\n",
    "print(sheet.max_column)\n",
    "one_column =sheet['A']\n",
    "print(one_column)\n",
    "one_row = sheet['1']\n",
    "print(one_row)\n",
    "#获取cell里面的值 \n",
    "one_cell=sheet['A1']\n",
    "\n",
    "print(one_cell.value)\n",
    "\n",
    "\n"
   ]
  },
  {
   "cell_type": "code",
   "execution_count": 28,
   "metadata": {},
   "outputs": [],
   "source": [
    "# 6. 写入数据\n",
    "from openpyxl import load_workbook  \n",
    "\n",
    "wb = load_workbook('./读写.xlsx')\n",
    "#取出表后在赋值\n",
    "sheet = wb['写']\n",
    "sheet['A1'].value = 'A1'\n",
    "\n",
    "\n",
    "#A列增加10条数据\n",
    "for i in range(1,11):\n",
    "    sheet['A{}'.format(i)].value = i\n",
    "    \n",
    "#给11 行增加 10列数据\n",
    "for j in range(1,11):\n",
    "    sheet.cell(row=11,column=j,value=j)\n",
    "wb.save('./读写.xlsx')"
   ]
  },
  {
   "cell_type": "code",
   "execution_count": 7,
   "metadata": {
    "code_folding": []
   },
   "outputs": [
    {
     "name": "stdout",
     "output_type": "stream",
     "text": [
      "9269\n",
      "18\n"
     ]
    }
   ],
   "source": [
    "# （1）了解数据并添加一列销售额数据\n",
    "from openpyxl import load_workbook\n",
    "#wb对象\n",
    "wb = load_workbook('./datafile/案例.xlsx')\n",
    "\n",
    "\n",
    "#取出订单表\n",
    "sheet = wb['订单']\n",
    "\n",
    "# 获取数据的行列\n",
    "print(sheet.max_row)\n",
    "print(sheet.max_column)\n",
    "\n",
    "\n",
    "# 获取单价和数量这两个列的值，并添加销售额列:\n",
    "sheet.cell(row=1,column=19,value='销售额')\n",
    "\n",
    "# 获取列数据\n",
    "#每一行数据都取出来 3000行 3000\n",
    "for row_index in range(2,sheet.max_row+1):\n",
    "    \n",
    "    # 单价数据\n",
    "    one_price = sheet.cell(row=row_index,column=17).value\n",
    "    \n",
    "    # 获取数量\n",
    "    one_num = sheet.cell(row=row_index,column=18).value\n",
    "    #数据分析工作中 :数据预处理 (6成左右)数据分析占比 3成\n",
    "    if one_price==None or one_num==None:\n",
    "    \n",
    "        sheet.cell(row=row_index,column=19).value = None\n",
    "    else:\n",
    "        sheet.cell(row=row_index,column=19).value = one_price * one_num\n",
    "\n",
    "wb.save('./datafile/案例.xlsx')"
   ]
  },
  {
   "cell_type": "code",
   "execution_count": 8,
   "metadata": {
    "code_folding": []
   },
   "outputs": [],
   "source": [
    "# （2）根据各个省的订单量绘制出柱状图\n",
    "from openpyxl import Workbook\n",
    "from openpyxl import load_workbook\n",
    "from openpyxl.chart import BarChart, Reference\n",
    "\n",
    "wb = load_workbook('./datafile/案例.xlsx')\n",
    "sheet = wb['各省销量']\n",
    "\n",
    "# 创建柱状图对象\n",
    "bar_chart = BarChart()\n",
    "\n",
    "data = Reference(sheet,min_row=2,max_row=32,min_col=2,max_col=2)\n",
    "\n",
    "bar_chart.add_data(data)\n",
    "bar_chart.title = '柱状图'\n",
    "\n",
    "sheet.add_chart(bar_chart,'D10')\n",
    "wb.save('./datafile/案例.xlsx')"
   ]
  },
  {
   "cell_type": "code",
   "execution_count": 31,
   "metadata": {
    "code_folding": []
   },
   "outputs": [],
   "source": [
    "# （3）添加到指定的位置\n",
    "from openpyxl.drawing.image import Image\n",
    "wb = load_workbook('./datafile/案例.xlsx')\n",
    "sheet = wb['各省销量']\n",
    "img = Image('./datafile/1.png')\n",
    "sheet.add_image(img,'D27')\n",
    "wb.save('./datafile/案例.xlsx')"
   ]
  },
  {
   "cell_type": "code",
   "execution_count": null,
   "metadata": {
    "code_folding": []
   },
   "outputs": [],
   "source": [
    "# （4）拓展--修改单元格样式\n",
    "from openpyxl.styles import Alignment,Border,Side,Font\n",
    "from openpyxl.styles.fills import GradientFill\n",
    "\n",
    "wb = load_workbook('./datafile/案例.xlsx')\n",
    "sheet = wb['各省销量']\n",
    "\n",
    "# 设置单元格字体\n",
    "sheet['A1'].font = Font(\n",
    "\tname='黑体',      # 设置单元格字体\n",
    "\tsize=36,        #设置字体字号\n",
    "\tbold=True,      # 加粗\n",
    "\tcolor='FFaa8844' # 单元格文本颜色\n",
    ")\n",
    "\n",
    "# 填充渐变颜色（起始颜色，结束颜色),其实颜色和结束颜色一致为固定颜色\n",
    "sheet['B1'].fill = GradientFill(stop=('00ffff','00ffff'))\n",
    "\n",
    "wb.save('./datafile/案例.xlsx')"
   ]
  },
  {
   "cell_type": "code",
   "execution_count": 9,
   "metadata": {
    "code_folding": []
   },
   "outputs": [
    {
     "name": "stdout",
     "output_type": "stream",
     "text": [
      "0565\n"
     ]
    }
   ],
   "source": [
    "# 暗号\n",
    "import random\n",
    "# 后八位\n",
    "argot = ''\n",
    "for index in range(4):\n",
    "    argot = argot + str(random.randint(0,9))\n",
    "print(argot)"
   ]
  },
  {
   "cell_type": "code",
   "execution_count": null,
   "metadata": {},
   "outputs": [],
   "source": []
  }
 ],
 "metadata": {
  "kernelspec": {
   "display_name": "Python 3",
   "language": "python",
   "name": "python3"
  },
  "language_info": {
   "codemirror_mode": {
    "name": "ipython",
    "version": 3
   },
   "file_extension": ".py",
   "mimetype": "text/x-python",
   "name": "python",
   "nbconvert_exporter": "python",
   "pygments_lexer": "ipython3",
   "version": "3.8.5"
  }
 },
 "nbformat": 4,
 "nbformat_minor": 4
}
