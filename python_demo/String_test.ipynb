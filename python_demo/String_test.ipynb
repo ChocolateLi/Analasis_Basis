{
 "cells": [
  {
   "cell_type": "markdown",
   "metadata": {},
   "source": [
    "#### 字符串基本操作"
   ]
  },
  {
   "cell_type": "code",
   "execution_count": 56,
   "metadata": {},
   "outputs": [
    {
     "name": "stdout",
     "output_type": "stream",
     "text": [
      "6\n"
     ]
    },
    {
     "data": {
      "text/plain": [
       "19"
      ]
     },
     "execution_count": 56,
     "metadata": {},
     "output_type": "execute_result"
    }
   ],
   "source": [
    "# 查找\n",
    "mystr = \"hello chenli world chenli so cool\"\n",
    "print(mystr.find('chenli',0,len(mystr)))\n",
    "mystr.find('chenli',0,12)\n",
    "mystr.rfind('chenli')"
   ]
  },
  {
   "cell_type": "code",
   "execution_count": 14,
   "metadata": {},
   "outputs": [
    {
     "data": {
      "text/plain": [
       "19"
      ]
     },
     "execution_count": 14,
     "metadata": {},
     "output_type": "execute_result"
    }
   ],
   "source": [
    "# 跟find方法一样，区别是如果所找字符串不在会报错\n",
    "mystr.index('chenli',0,len(mystr))\n",
    "# mystr.index('chenli',0,12)\n",
    "mystr.rindex('chenli')"
   ]
  },
  {
   "cell_type": "code",
   "execution_count": 6,
   "metadata": {},
   "outputs": [
    {
     "data": {
      "text/plain": [
       "2"
      ]
     },
     "execution_count": 6,
     "metadata": {},
     "output_type": "execute_result"
    }
   ],
   "source": [
    "str = 'hello'\n",
    "mystr = 'hello world hello chenli hello java'\n",
    "mystr.count(str)\n",
    "mystr.count(str,0,17)"
   ]
  },
  {
   "cell_type": "code",
   "execution_count": 10,
   "metadata": {},
   "outputs": [
    {
     "data": {
      "text/plain": [
       "True"
      ]
     },
     "execution_count": 10,
     "metadata": {},
     "output_type": "execute_result"
    }
   ],
   "source": [
    "mystr.startswith(str)\n",
    "mystr.endswith('java')"
   ]
  },
  {
   "cell_type": "code",
   "execution_count": 17,
   "metadata": {},
   "outputs": [
    {
     "data": {
      "text/plain": [
       "'h.e.l.l.o. .c.h.e.n.l.i. .w.o.r.l.d. .c.h.e.n.l.i. .s.o. .c.o.o.l'"
      ]
     },
     "execution_count": 17,
     "metadata": {},
     "output_type": "execute_result"
    }
   ],
   "source": [
    "# 增\n",
    "# join函数：在mystr中的每个元素后面插入str，构造出新的字符串。每个元素包括空格\n",
    "'.'.join(mystr)"
   ]
  },
  {
   "cell_type": "code",
   "execution_count": 27,
   "metadata": {},
   "outputs": [
    {
     "name": "stdout",
     "output_type": "stream",
     "text": [
      "\tchenli\t\n",
      "chenli\t\n",
      "\tchenli\n"
     ]
    },
    {
     "data": {
      "text/plain": [
       "'\\tchenli\\t'"
      ]
     },
     "execution_count": 27,
     "metadata": {},
     "output_type": "execute_result"
    }
   ],
   "source": [
    "# 删\n",
    "mystr = '\\tchenli\\t'\n",
    "print(mystr)\n",
    "# 它不是在原有的基础上删除，而是返回一个新的变量\n",
    "mystr1 = mystr.lstrip()\n",
    "print(mystr1)\n",
    "mystr2 = mystr.rstrip()\n",
    "print(mystr2)\n",
    "mystr"
   ]
  },
  {
   "cell_type": "code",
   "execution_count": 33,
   "metadata": {},
   "outputs": [
    {
     "name": "stdout",
     "output_type": "stream",
     "text": [
      "\t\n",
      "chenli\t\n",
      "\n",
      "chenli\n"
     ]
    }
   ],
   "source": [
    "mystr = '\\t\\nchenli\\t\\n'\n",
    "print(mystr)\n",
    "mystr1 = mystr.strip()\n",
    "print(mystr1)"
   ]
  },
  {
   "cell_type": "code",
   "execution_count": 35,
   "metadata": {},
   "outputs": [
    {
     "data": {
      "text/plain": [
       "'cool java cool chenli hello python'"
      ]
     },
     "execution_count": 35,
     "metadata": {},
     "output_type": "execute_result"
    }
   ],
   "source": [
    "# 改\n",
    "# replace最后参数表示不超过几次\n",
    "mystr = 'hello java hello chenli hello python'\n",
    "mystr.replace('hello','cool',2)"
   ]
  },
  {
   "cell_type": "code",
   "execution_count": 37,
   "metadata": {},
   "outputs": [
    {
     "data": {
      "text/plain": [
       "['hello', 'java', 'hello chenli hello python']"
      ]
     },
     "execution_count": 37,
     "metadata": {},
     "output_type": "execute_result"
    }
   ],
   "source": [
    "# split分隔,返回一个list列表。最后一个参数表示分隔几次\n",
    "mystr.split(\" \",2)"
   ]
  },
  {
   "cell_type": "code",
   "execution_count": 42,
   "metadata": {},
   "outputs": [
    {
     "name": "stdout",
     "output_type": "stream",
     "text": [
      "\tchenli\n",
      "Chenli\n"
     ]
    }
   ],
   "source": [
    "# 字符串的第一个字符大写\n",
    "mystr = \"\\tchenli\"\n",
    "print(mystr.capitalize())\n",
    "mystr = 'chenli'\n",
    "print(mystr.capitalize())"
   ]
  },
  {
   "cell_type": "code",
   "execution_count": 44,
   "metadata": {},
   "outputs": [
    {
     "data": {
      "text/plain": [
       "'Hello Chenli Hello Java Hello Python'"
      ]
     },
     "execution_count": 44,
     "metadata": {},
     "output_type": "execute_result"
    }
   ],
   "source": [
    "a = 'hello chenli hello java hello python'\n",
    "a.title()"
   ]
  },
  {
   "cell_type": "code",
   "execution_count": 46,
   "metadata": {},
   "outputs": [
    {
     "data": {
      "text/plain": [
       "'hello python'"
      ]
     },
     "execution_count": 46,
     "metadata": {},
     "output_type": "execute_result"
    }
   ],
   "source": [
    "# 大小写转换\n",
    "mystr = 'hello python'\n",
    "mystr1 = mystr.upper()\n",
    "mystr1.lower()"
   ]
  },
  {
   "cell_type": "code",
   "execution_count": 47,
   "metadata": {},
   "outputs": [
    {
     "data": {
      "text/plain": [
       "('hello ', 'java', ' python scala')"
      ]
     },
     "execution_count": 47,
     "metadata": {},
     "output_type": "execute_result"
    }
   ],
   "source": [
    "str = 'hello java python scala'\n",
    "str.partition('java')"
   ]
  },
  {
   "cell_type": "code",
   "execution_count": 55,
   "metadata": {},
   "outputs": [
    {
     "name": "stdout",
     "output_type": "stream",
     "text": [
      "['hello java', 'hello python', 'hello scala']\n"
     ]
    }
   ],
   "source": [
    "str = 'hello java\\nhello python\\nhello scala'\n",
    "print(str.splitlines())"
   ]
  },
  {
   "cell_type": "markdown",
   "metadata": {},
   "source": [
    "#### 容器操作操作"
   ]
  },
  {
   "cell_type": "code",
   "execution_count": 66,
   "metadata": {},
   "outputs": [
    {
     "name": "stdout",
     "output_type": "stream",
     "text": [
      "{'chenli': 91, 'hahah': 95, 'lili': 85}\n"
     ]
    },
    {
     "data": {
      "text/plain": [
       "'chenli'"
      ]
     },
     "execution_count": 66,
     "metadata": {},
     "output_type": "execute_result"
    }
   ],
   "source": [
    "dict = {'chenli':91,'hahah':95,'lili':85}\n",
    "print(dict)\n",
    "# print(list(dict.keys()))\n",
    "list1 = list(dict.keys())\n",
    "list1[0]"
   ]
  },
  {
   "cell_type": "code",
   "execution_count": 67,
   "metadata": {},
   "outputs": [
    {
     "data": {
      "text/plain": [
       "dict_values([91, 95, 85])"
      ]
     },
     "execution_count": 67,
     "metadata": {},
     "output_type": "execute_result"
    }
   ],
   "source": [
    "dict.values()"
   ]
  },
  {
   "cell_type": "code",
   "execution_count": 68,
   "metadata": {},
   "outputs": [
    {
     "data": {
      "text/plain": [
       "dict_items([('chenli', 91), ('hahah', 95), ('lili', 85)])"
      ]
     },
     "execution_count": 68,
     "metadata": {},
     "output_type": "execute_result"
    }
   ],
   "source": [
    "dict.items()"
   ]
  },
  {
   "cell_type": "code",
   "execution_count": 78,
   "metadata": {},
   "outputs": [
    {
     "name": "stdout",
     "output_type": "stream",
     "text": [
      "0\n",
      "chenli\n",
      "91\n",
      "1\n",
      "hahah\n",
      "95\n",
      "2\n",
      "lili\n",
      "85\n"
     ]
    }
   ],
   "source": [
    "for index,key in enumerate(dict):\n",
    "    print(index)\n",
    "    print(key)\n",
    "    print(dict[key])\n",
    "    "
   ]
  },
  {
   "cell_type": "code",
   "execution_count": null,
   "metadata": {},
   "outputs": [],
   "source": []
  },
  {
   "cell_type": "code",
   "execution_count": null,
   "metadata": {},
   "outputs": [],
   "source": []
  },
  {
   "cell_type": "code",
   "execution_count": null,
   "metadata": {},
   "outputs": [],
   "source": []
  },
  {
   "cell_type": "code",
   "execution_count": null,
   "metadata": {},
   "outputs": [],
   "source": []
  }
 ],
 "metadata": {
  "kernelspec": {
   "display_name": "Python 3",
   "language": "python",
   "name": "python3"
  },
  "language_info": {
   "codemirror_mode": {
    "name": "ipython",
    "version": 3
   },
   "file_extension": ".py",
   "mimetype": "text/x-python",
   "name": "python",
   "nbconvert_exporter": "python",
   "pygments_lexer": "ipython3",
   "version": "3.8.5"
  }
 },
 "nbformat": 4,
 "nbformat_minor": 4
}
