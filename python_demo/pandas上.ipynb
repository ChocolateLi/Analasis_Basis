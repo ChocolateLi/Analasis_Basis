{
 "cells": [
  {
   "cell_type": "markdown",
   "metadata": {},
   "source": [
    "一。一维数组"
   ]
  },
  {
   "cell_type": "code",
   "execution_count": 2,
   "metadata": {},
   "outputs": [
    {
     "name": "stdout",
     "output_type": "stream",
     "text": [
      "0    1\n",
      "1    2\n",
      "2    3\n",
      "3    4\n",
      "dtype: int64\n",
      "a    1\n",
      "b    2\n",
      "c    3\n",
      "d    4\n",
      "dtype: int64\n",
      "[1 2 3 4]\n",
      "Index(['a', 'b', 'c', 'd'], dtype='object')\n",
      "[('a', 1), ('b', 2), ('c', 3), ('d', 4)]\n"
     ]
    }
   ],
   "source": [
    "import pandas as pd\n",
    "from pandas import Series,DataFrame\n",
    "import numpy as np\n",
    "\n",
    "sel =  Series([1,2,3,4])\n",
    "print(sel)\n",
    "\n",
    "# 通常我们会自己创建索引\n",
    "#data数值，index索引，指定索引 \n",
    "#不指定索引， 【0，1，2， len(data)-1】\n",
    "sel =  Series(data = [1,2,3,4], index = ['a','b','c','d'])\n",
    "sel =  Series(data = [1,2,3,4], index = list('abcd'))\n",
    "print(sel)\n",
    "# 获取内容\n",
    "print(sel.values)\n",
    "# 获取索引\n",
    "print(sel.index)\n",
    "# 获取索引和值对\n",
    "print(list(sel.iteritems()))"
   ]
  },
  {
   "cell_type": "code",
   "execution_count": 48,
   "metadata": {},
   "outputs": [
    {
     "name": "stdout",
     "output_type": "stream",
     "text": [
      "red      100\n",
      "black    400\n",
      "green    300\n",
      "pink     900\n",
      "dtype: int64\n"
     ]
    }
   ],
   "source": [
    "# 将字典转换为Series\n",
    "#key 变为索引， value 变为值 \n",
    "dict={\"red\":100,\"black\":400,\"green\":300,\"pink\":900}\n",
    "se3=Series(dict)\n",
    "print(se3)"
   ]
  },
  {
   "cell_type": "code",
   "execution_count": 49,
   "metadata": {},
   "outputs": [
    {
     "name": "stdout",
     "output_type": "stream",
     "text": [
      "a    1\n",
      "b    2\n",
      "c    3\n",
      "d    4\n",
      "dtype: int64\n",
      "索引下标 3\n",
      "位置下标 3\n",
      "---------\n",
      "索引下标 a    1\n",
      "c    3\n",
      "dtype: int64\n",
      "位置下标 b    2\n",
      "d    4\n",
      "dtype: int64\n",
      "---------\n",
      "位置切片 b    2\n",
      "c    3\n",
      "dtype: int64\n",
      "索引切片 b    2\n",
      "c    3\n",
      "d    4\n",
      "dtype: int64\n"
     ]
    }
   ],
   "source": [
    "# Series数据获取\n",
    "sel =  Series(data = [1,2,3,4], index = list('abcd'))\n",
    "print(sel)\n",
    "\n",
    "# Series对象同时支持位置和标签两种方式获取数据\n",
    "print('索引下标',sel['c'])\n",
    "print('位置下标',sel[2])\n",
    "\n",
    "print(\"---------\")\n",
    "# 获取不连续的数据\n",
    "print('索引下标',sel[['a','c']])\n",
    "print('位置下标',sel[[1,3]])\n",
    "\n",
    "print(\"---------\")\n",
    "# 可以使用切片或取数据\n",
    "print('位置切片',sel[1:3])# 左包含右不包含\n",
    "print('索引切片',sel['b':'d'])# 左右都包含"
   ]
  },
  {
   "cell_type": "code",
   "execution_count": 50,
   "metadata": {},
   "outputs": [
    {
     "name": "stdout",
     "output_type": "stream",
     "text": [
      "a    1\n",
      "b    2\n",
      "c    3\n",
      "d    4\n",
      "dtype: int64\n",
      "b    2.0\n",
      "a    1.0\n",
      "c    3.0\n",
      "d    4.0\n",
      "e    NaN\n",
      "dtype: float64\n"
     ]
    }
   ],
   "source": [
    "# 重新赋值索引的值\n",
    "# sel.index = list('dcba')\n",
    "print(sel)\n",
    "# # ReIndex重新索引,会返回一个新的Series(调用reindex将会重新排序，缺失值则用NaN填补)\n",
    "print(sel.reindex(['b','a','c','d','e']))"
   ]
  },
  {
   "cell_type": "code",
   "execution_count": 51,
   "metadata": {},
   "outputs": [
    {
     "name": "stdout",
     "output_type": "stream",
     "text": [
      "0    10\n",
      "1    11\n",
      "2    12\n",
      "3    13\n",
      "4    14\n",
      "dtype: int64\n",
      "0    10\n",
      "1    11\n",
      "4    14\n",
      "dtype: int64\n"
     ]
    }
   ],
   "source": [
    "# Drop丢弃指定轴上的项\n",
    "se1=pd.Series(range(10,15))\n",
    "print(se1)\n",
    "print(se1.drop([2,3]))"
   ]
  },
  {
   "cell_type": "code",
   "execution_count": 52,
   "metadata": {},
   "outputs": [
    {
     "name": "stdout",
     "output_type": "stream",
     "text": [
      "London      1\n",
      "HongKong    2\n",
      "Humbai      3\n",
      "lagos       4\n",
      "dtype: int64\n",
      "London    1\n",
      "Accra     3\n",
      "lagos     6\n",
      "Delhi     4\n",
      "dtype: int64\n",
      "--------\n",
      "a    1\n",
      "b    6\n",
      "c    3\n",
      "d    5\n",
      "dtype: int64\n",
      "b    6\n",
      "d    5\n",
      "dtype: int64\n",
      "a     2\n",
      "b    12\n",
      "c     6\n",
      "d    10\n",
      "dtype: int64\n",
      "a     1\n",
      "b    36\n",
      "c     9\n",
      "d    25\n",
      "dtype: int64\n"
     ]
    }
   ],
   "source": [
    "'''\n",
    "对 Series 的算术运算都是基于 index 进行的。\n",
    "我们可以用加减乘除（+ - * /）这样的运算符对两个 Series 进行运算，\n",
    "Pandas 将会根据索引 index，对响应的数据进行计算，结果将会以浮点数的形式存储，以避免丢失精度。\n",
    "如果 Pandas 在两个 Series 里找不到相同的 index，对应的位置就返回一个空值 NaN\n",
    "'''\n",
    "series1 = pd.Series([1,2,3,4],['London','HongKong','Humbai','lagos'])\n",
    "series2 = pd.Series([1,3,6,4],['London','Accra','lagos','Delhi'])\n",
    "\n",
    "print(series1)\n",
    "print(series2)\n",
    "\n",
    "print(\"--------\")\n",
    "# print(series1-series2)\n",
    "# print(series1+series2)\n",
    "# print(series1*series2)\n",
    "\n",
    "# # 同样也支持numpy的数组运算\n",
    "sel =  Series(data = [1,6,3,5], index = list('abcd'))\n",
    "print(sel)\n",
    "print(sel[sel>3]) # 布尔数组过滤\n",
    "print(sel*2) # 标量乘法\n",
    "print(np.square(sel)) # 可以直接加入到numpy的数学函数\n"
   ]
  },
  {
   "cell_type": "markdown",
   "metadata": {},
   "source": [
    "二.dataframe"
   ]
  },
  {
   "cell_type": "code",
   "execution_count": 53,
   "metadata": {},
   "outputs": [
    {
     "name": "stdout",
     "output_type": "stream",
     "text": [
      "   a  b  c  d\n",
      "1  6  2  6  8\n",
      "2  3  6  0  5\n",
      "3  7  3  1  0\n",
      "4  4  1  1  3\n",
      "    Province  pop  year\n",
      "1  Guangdong  1.3  2018\n",
      "2    Beijing  2.5  2018\n",
      "3    Qinghai  1.1  2018\n",
      "4     Fujian  0.7  2018\n"
     ]
    }
   ],
   "source": [
    "# 1. 创建DataFrame\n",
    "# 使用二维数组\n",
    "# np.random.randint(low, high, size(4行,4列))\n",
    "#index行索引, columns列索引 \n",
    "df1 = DataFrame(np.random.randint(0,10,(4,4)),index=[1,2,3,4],columns=['a','b','c','d'])\n",
    "print(df1) \n",
    "\n",
    "# 使用字典创建(行索引由index决定，列索引由字典的键决定)\n",
    "dict={\n",
    "    'Province': ['Guangdong', 'Beijing', 'Qinghai', 'Fujian'],\n",
    "    'pop': [1.3, 2.5, 1.1, 0.7],\n",
    "    'year': [2018, 2018, 2018, 2018]}\n",
    "df2=pd.DataFrame(dict,index=[1,2,3,4])\n",
    "print(df2)"
   ]
  },
  {
   "cell_type": "code",
   "execution_count": 54,
   "metadata": {},
   "outputs": [
    {
     "name": "stdout",
     "output_type": "stream",
     "text": [
      "   a  b\n",
      "0  1  4\n",
      "1  2  5\n",
      "2  3  6\n"
     ]
    }
   ],
   "source": [
    "# 使用from_dict\n",
    "dict3={\"a\":[1,2,3],\"b\":[4,5,6]}\n",
    "df3=pd.DataFrame.from_dict(dict3)\n",
    "print(df3)"
   ]
  },
  {
   "cell_type": "code",
   "execution_count": 55,
   "metadata": {},
   "outputs": [
    {
     "name": "stdout",
     "output_type": "stream",
     "text": [
      "  Name Age country\n",
      "a   zs  10      中国\n",
      "b   ls  20      韩国\n",
      "c   we  30      日本\n",
      "d  NaN  40     NaN\n",
      "{'Name': {'a': 'zs', 'b': 'ls', 'c': 'we', 'd': nan}, 'Age': {'a': '10', 'b': '20', 'c': '30', 'd': '40'}, 'country': {'a': '中国', 'b': '韩国', 'c': '日本', 'd': nan}}\n"
     ]
    }
   ],
   "source": [
    "#索引相同的情况下，相同索引的值会相对应，缺少的值会添加NaN\n",
    "data = {\n",
    "    'Name':pd.Series(['zs','ls','we'],index=['a','b','c']),\n",
    "    'Age':pd.Series(['10','20','30','40'],index=['a','b','c','d']),\n",
    "    'country':pd.Series(['中国','日本','韩国'],index=['a','c','b'])\n",
    "}\n",
    "\n",
    "df = pd.DataFrame(data)\n",
    "print(df)\n",
    "# to_dict()方法将DataFrame对象转换为字典\n",
    "dict = df.to_dict()\n",
    "print(dict)"
   ]
  },
  {
   "cell_type": "code",
   "execution_count": 56,
   "metadata": {},
   "outputs": [
    {
     "name": "stdout",
     "output_type": "stream",
     "text": [
      "       name age national\n",
      "0     James  18       us\n",
      "1     Curry  20    China\n",
      "2  Iversion  19       us\n"
     ]
    }
   ],
   "source": [
    "import pandas as pd\n",
    "from pandas import Series,DataFrame\n",
    "import numpy as np\n",
    "\n",
    "# dataframe常用属性\n",
    "df_dict = {\n",
    "\t'name':['James','Curry','Iversion'],\n",
    "\t'age':['18','20','19'],\n",
    "\t'national':['us','China','us']\n",
    "}\n",
    "df = pd.DataFrame(data=df_dict,index=['0','1','2'])\n",
    "print(df)"
   ]
  },
  {
   "cell_type": "code",
   "execution_count": 57,
   "metadata": {},
   "outputs": [
    {
     "name": "stdout",
     "output_type": "stream",
     "text": [
      "(3, 3)\n",
      "['0', '1', '2']\n",
      "['name', 'age', 'national']\n",
      "name        object\n",
      "age         object\n",
      "national    object\n",
      "dtype: object\n",
      "2\n",
      "[['James' '18' 'us']\n",
      " ['Curry' '20' 'China']\n",
      " ['Iversion' '19' 'us']]\n",
      "<class 'pandas.core.frame.DataFrame'>\n",
      "Index: 3 entries, 0 to 2\n",
      "Data columns (total 3 columns):\n",
      " #   Column    Non-Null Count  Dtype \n",
      "---  ------    --------------  ----- \n",
      " 0   name      3 non-null      object\n",
      " 1   age       3 non-null      object\n",
      " 2   national  3 non-null      object\n",
      "dtypes: object(3)\n",
      "memory usage: 96.0+ bytes\n",
      "None\n",
      "------\n",
      "    name age national\n",
      "0  James  18       us\n",
      "1  Curry  20    China\n",
      "------\n",
      "       name age national\n",
      "2  Iversion  19       us\n"
     ]
    }
   ],
   "source": [
    "# 获取行数和列数\n",
    "print(df.shape)\n",
    "\n",
    "\n",
    "# # 获取行索引\n",
    "print(df.index.tolist())\n",
    "\n",
    "\n",
    "# # 获取列索引\n",
    "print(df.columns.tolist())\n",
    "\n",
    "\n",
    "# 获取数据的类型\n",
    "print(df.dtypes)\n",
    "\n",
    "# 获取数据的维度\n",
    "print(df.ndim)\n",
    "\n",
    "# values属性也会以二维ndarray的形式返回DataFrame的数据\n",
    "print(df.values)\n",
    "\n",
    "# 展示df的概览\n",
    "print(df.info())\n",
    "print(\"------\")\n",
    "# 显示头几行,默认显示5行\n",
    "print(df.head(2))\n",
    "print(\"------\")\n",
    "# 显示后几行\n",
    "print(df.tail(1))\n"
   ]
  },
  {
   "cell_type": "code",
   "execution_count": 58,
   "metadata": {},
   "outputs": [
    {
     "name": "stdout",
     "output_type": "stream",
     "text": [
      "0       James\n",
      "1       Curry\n",
      "2    Iversion\n",
      "Name: name, dtype: object\n",
      "<class 'pandas.core.series.Series'>\n",
      "       name age\n",
      "0     James  18\n",
      "1     Curry  20\n",
      "2  Iversion  19\n",
      "<class 'pandas.core.frame.DataFrame'>\n"
     ]
    }
   ],
   "source": [
    "#获取多列 \n",
    "# 获取DataFrame的列\n",
    "print(df['name'])\n",
    "#因为我们只获取一列，所以返回的就是一个 Series\n",
    "print(type(df['name']))\n",
    "\n",
    "# # 如果获取多个列，那返回的就是一个 DataFrame 类型：\n",
    "print(df[['name','age']])\n",
    "print(type(df[['name','age']]))"
   ]
  },
  {
   "cell_type": "code",
   "execution_count": 59,
   "metadata": {},
   "outputs": [
    {
     "name": "stdout",
     "output_type": "stream",
     "text": [
      "    name age national\n",
      "0  James  18       us\n",
      "       name age national\n",
      "1     Curry  20    China\n",
      "2  Iversion  19       us\n",
      "       name age\n",
      "1     Curry  20\n",
      "2  Iversion  19\n"
     ]
    }
   ],
   "source": [
    "# 获取一行\n",
    "print(df[0:1])\n",
    "\n",
    "# # 去多行\n",
    "print(df[1:3])\n",
    "\n",
    "# 取多行里面的某一列（不能进行多行多列的选择）\n",
    "print(df[1:3][['name','age']])\n",
    "# 注意： df[]只能进行行选择，或列选择，不能同时多行多列选择。"
   ]
  },
  {
   "cell_type": "code",
   "execution_count": 60,
   "metadata": {},
   "outputs": [
    {
     "name": "stdout",
     "output_type": "stream",
     "text": [
      "name        Curry\n",
      "age            20\n",
      "national    China\n",
      "Name: 1, dtype: object\n"
     ]
    }
   ],
   "source": [
    "'''\n",
    "df.loc 通过标签索引行数据\n",
    "df.iloc 通过位置获取行数据\n",
    "'''\n",
    "\n",
    "# loc[行,列  ]\n",
    "# loc[ '0',:   ]   ,''\n",
    "# 获取某一行某一列的数据\n",
    "print(df.loc['0','name'])\n",
    "\n",
    "# 一行所有列\n",
    "print(df.loc['0',:])\n",
    "\n",
    "# 某一行多列的数据\n",
    "print(df.loc['0',['name','age']])\n",
    "\n",
    "# 选择间隔的多行多列\n",
    "print(df.loc[['0','2'],['name','national']])\n",
    "# 选择连续的多行和间隔的多列\n",
    "print(df.loc['0':'2',['name','national']])\n",
    "\n",
    "# # 取一行\n",
    "print(df.iloc[1])\n",
    "\n",
    "# 取连续多行\n",
    "print(df.iloc[0:2])\n",
    "\n",
    "# 取间断的多行\n",
    "print(df.iloc[[0,2],:])\n",
    "\n",
    "# 取某一列\n",
    "print(df.iloc[:,1])\n",
    "\n",
    "# 某一个值\n",
    "print(df.iloc[1,0])"
   ]
  },
  {
   "cell_type": "code",
   "execution_count": 61,
   "metadata": {},
   "outputs": [
    {
     "name": "stdout",
     "output_type": "stream",
     "text": [
      "James\n",
      "       name age national\n",
      "0     panda  18       us\n",
      "1     Curry  20    China\n",
      "2  Iversion  19       us\n"
     ]
    }
   ],
   "source": [
    "# 某一个值\n",
    "print(df.iloc[0,0])\n",
    "\n",
    "# 修改值\n",
    "df.iloc[0,0]='panda'\n",
    "print(df)"
   ]
  },
  {
   "cell_type": "code",
   "execution_count": 63,
   "metadata": {},
   "outputs": [
    {
     "name": "stdout",
     "output_type": "stream",
     "text": [
      "       name age national\n",
      "0     panda  18       us\n",
      "2  Iversion  19       us\n",
      "1     Curry  20    China\n"
     ]
    }
   ],
   "source": [
    "# dataframe中的排序方法\n",
    "df = df.sort_values(by='age',ascending=True)\n",
    "# ascending=False  ： 降序排列，默认是升序\n",
    "print(df)"
   ]
  },
  {
   "cell_type": "code",
   "execution_count": 68,
   "metadata": {},
   "outputs": [
    {
     "name": "stdout",
     "output_type": "stream",
     "text": [
      "    a  b  c\n",
      "bj  0  1  2\n",
      "sh  3  4  5\n",
      "gz  6  7  8\n",
      "         aa  b  c\n",
      "beijing   0  1  2\n",
      "sh        3  4  5\n",
      "gz        6  7  8\n"
     ]
    }
   ],
   "source": [
    "#修改行列索引 \n",
    "df1 = pd.DataFrame(np.arange(9).reshape(3, 3), index = ['bj', 'sh', 'gz'], columns=['a', 'b', 'c'])\n",
    "print(df1)\n",
    "# 修改 df1 的 index\n",
    "# index 暴力方法 \n",
    "# print(df1.index) # 可以打印出print的值，同时也可以为其赋值\n",
    "# df1.index = ['beijing', 'shanghai', 'guangzhou']\n",
    "# print(df1)\n",
    "\n",
    "#温柔方法 \n",
    "# 自定义map函数（x是原有的行列值）\n",
    "def test_map(x):\n",
    "    \n",
    "    return x+'_ABC'\n",
    "# inplace：布尔值，默认为False。指定是否返回新的DataFrame。如果为True，则在原df上修改，返回值为None。\n",
    "df1.rename(index=test_map, columns=test_map, inplace=True) \n",
    "print(df1)\n",
    "\n",
    "# # 同时，rename 还可以传入字典，为某个 index 单独修改名称\n",
    "df3 = df1.rename(index={'bj':'beijing'}, columns = {'a':'aa'}) \n",
    "print(df3)"
   ]
  },
  {
   "cell_type": "code",
   "execution_count": 69,
   "metadata": {},
   "outputs": [
    {
     "name": "stdout",
     "output_type": "stream",
     "text": [
      "    a  b  c\n",
      "bj  0  1  2\n",
      "sh  3  4  5\n",
      "gz  6  7  8\n",
      "         aa  b  c\n",
      "beijing   0  1  2\n",
      "sh        3  4  5\n",
      "gz        6  7  8\n"
     ]
    }
   ],
   "source": [
    "df1 = pd.DataFrame(np.arange(9).reshape(3, 3), index = ['bj', 'sh', 'gz'], columns=['a', 'b', 'c'])\n",
    "print(df1)\n",
    "\n",
    "# # 同时，rename 还可以传入字典，为某个 index 单独修改名称\n",
    "df3 = df1.rename(index={'bj':'beijing'}, columns = {'a':'aa'}) \n",
    "print(df3)"
   ]
  },
  {
   "cell_type": "code",
   "execution_count": 73,
   "metadata": {},
   "outputs": [
    {
     "name": "stdout",
     "output_type": "stream",
     "text": [
      "   X  Y  S  Z\n",
      "0  0  0  a  1\n",
      "1  1  1  b  1\n",
      "2  2  2  c  2\n",
      "3  3  3  d  2\n",
      "4  4  4  e  2\n",
      "   X  Y  S  Z\n",
      "a  0  0  a  1\n",
      "b  1  1  b  1\n",
      "c  2  2  c  2\n",
      "d  3  3  d  2\n",
      "e  4  4  e  2\n"
     ]
    }
   ],
   "source": [
    "# 列转化为索引\n",
    "df1=pd.DataFrame({'X':range(5),'Y':range(5),'S':list(\"abcde\"),'Z':[1,1,2,2,2]})\n",
    "print(df1)\n",
    "\n",
    "# 指定一列为索引 (drop=False 指定同时保留作为索引的列)\n",
    "result = df1.set_index('S',drop=False)\n",
    "result.index.name=None\n",
    "print(result)"
   ]
  },
  {
   "cell_type": "code",
   "execution_count": 75,
   "metadata": {},
   "outputs": [
    {
     "name": "stdout",
     "output_type": "stream",
     "text": [
      "   0  0  a  1\n",
      "0  0  0  a  1\n",
      "1  1  1  b  1\n",
      "2  2  2  c  2\n",
      "3  3  3  d  2\n",
      "4  4  4  e  2\n"
     ]
    }
   ],
   "source": [
    "# 行转为列索引\n",
    "result = df1.set_axis(df1.iloc[0],axis=1,inplace=False)\n",
    "result.columns.name=None\n",
    "print(result)"
   ]
  },
  {
   "cell_type": "code",
   "execution_count": 76,
   "metadata": {},
   "outputs": [
    {
     "name": "stdout",
     "output_type": "stream",
     "text": [
      "     name gender  age\n",
      "0    Snow      M   22\n",
      "1  Tyrion      M   32\n",
      "2   Sansa      F   18\n",
      "3    Arya      F   14\n",
      "     name gender  age  score\n",
      "0    Snow      M   22     80\n",
      "1  Tyrion      M   32     98\n",
      "2   Sansa      F   18     67\n",
      "3    Arya      F   14     90\n",
      "0      Snow\n",
      "1    Tyrion\n",
      "2     Sansa\n",
      "3      Arya\n",
      "Name: name, dtype: object\n",
      "0      Snow\n",
      "1    Tyrion\n",
      "2     Sansa\n",
      "3      Arya\n",
      "Name: name, dtype: object\n"
     ]
    }
   ],
   "source": [
    "# 添加数据 \n",
    "\n",
    "# 增加数据\n",
    "df1 = pd.DataFrame([['Snow','M',22],['Tyrion','M',32],['Sansa','F',18],['Arya','F',14]],\n",
    "                   columns=['name','gender','age'])\n",
    "\n",
    "print(df1)\n",
    "# # 在数据框最后加上score一列\n",
    "df1['score']=[80,98,67,90]   # 增加列的元素个数要跟原数据列的个数一样\n",
    "print(df1)\n",
    "\n",
    "print(df1['name'])  # 读, 写  可以修改  df['字段']\n",
    "print(df1.name)    # 读  df.字段"
   ]
  },
  {
   "cell_type": "code",
   "execution_count": 73,
   "metadata": {},
   "outputs": [
    {
     "name": "stdout",
     "output_type": "stream",
     "text": [
      "     name gender city city  age  score\n",
      "0    Snow      M   北京   北京   22     80\n",
      "1  Tyrion      M   山西   山西   32     98\n",
      "2   Sansa      F   湖北   湖北   18     67\n",
      "3    Arya      F   澳门   澳门   14     90\n"
     ]
    }
   ],
   "source": [
    "# 在具体某个位置插入一列可以用insert的方法\n",
    "# 语法格式：列表.insert(index, obj)\n",
    "# index --->对象 obj 需要插入的索引位置。\n",
    "# obj ---> 要插入列表中的对象（列名）\n",
    "\n",
    "col_name=df1.columns.tolist()                    # 将数据框的列名全部提取出来存放在列表里\n",
    "\n",
    "col_name.insert(2,'city')                      # 在列索引为2的位置插入一列,列名为:city，刚插入时不会有值，整列都是NaN\n",
    "print(col_name)\n",
    "df1=df1.reindex(columns=col_name)              # DataFrame.reindex() 对原行/列索引重新构建索引值\n",
    "print(df1)\n",
    "df1['city']=['北京','山西','湖北','澳门']   # 给city列赋值\n",
    "print(df1)\n",
    "\n",
    "# # # df中的insert,插入一列\n",
    "# # '''\n",
    "# # df.insert(iloc,column,value)\n",
    "# # iloc:要插入的位置\n",
    "# # colunm:列名\n",
    "# # value:值\n",
    "# # '''\n",
    "print(df1)\n",
    "# df1.insert(2,'scoreA',[80,98,67,90])\n",
    "# print(df1)"
   ]
  },
  {
   "cell_type": "code",
   "execution_count": 77,
   "metadata": {},
   "outputs": [
    {
     "name": "stdout",
     "output_type": "stream",
     "text": [
      "     name gender  age\n",
      "0    Snow      M   22\n",
      "1  Tyrion      M   32\n",
      "2   Sansa      F   18\n",
      "3    Arya      F   14\n"
     ]
    },
    {
     "ename": "ValueError",
     "evalue": "cannot insert name, already exists",
     "output_type": "error",
     "traceback": [
      "\u001b[1;31m---------------------------------------------------------------------------\u001b[0m",
      "\u001b[1;31mValueError\u001b[0m                                Traceback (most recent call last)",
      "\u001b[1;32m<ipython-input-77-68e43ddcb06d>\u001b[0m in \u001b[0;36m<module>\u001b[1;34m\u001b[0m\n\u001b[0;32m      5\u001b[0m \u001b[0mprint\u001b[0m\u001b[1;33m(\u001b[0m\u001b[0mdf1\u001b[0m\u001b[1;33m)\u001b[0m\u001b[1;33m\u001b[0m\u001b[1;33m\u001b[0m\u001b[0m\n\u001b[0;32m      6\u001b[0m \u001b[1;31m# iloc , 名字, 值\u001b[0m\u001b[1;33m\u001b[0m\u001b[1;33m\u001b[0m\u001b[1;33m\u001b[0m\u001b[0m\n\u001b[1;32m----> 7\u001b[1;33m \u001b[0mdf1\u001b[0m\u001b[1;33m.\u001b[0m\u001b[0minsert\u001b[0m\u001b[1;33m(\u001b[0m\u001b[1;36m2\u001b[0m\u001b[1;33m,\u001b[0m\u001b[1;34m'name'\u001b[0m\u001b[1;33m,\u001b[0m\u001b[1;33m[\u001b[0m\u001b[1;36m80\u001b[0m\u001b[1;33m,\u001b[0m\u001b[1;36m98\u001b[0m\u001b[1;33m,\u001b[0m\u001b[1;36m67\u001b[0m\u001b[1;33m,\u001b[0m\u001b[1;36m90\u001b[0m\u001b[1;33m]\u001b[0m\u001b[1;33m)\u001b[0m\u001b[1;33m\u001b[0m\u001b[1;33m\u001b[0m\u001b[0m\n\u001b[0m\u001b[0;32m      8\u001b[0m \u001b[0mprint\u001b[0m\u001b[1;33m(\u001b[0m\u001b[0mdf1\u001b[0m\u001b[1;33m)\u001b[0m\u001b[1;33m\u001b[0m\u001b[1;33m\u001b[0m\u001b[0m\n",
      "\u001b[1;32m~\\Anaconda3\\lib\\site-packages\\pandas\\core\\frame.py\u001b[0m in \u001b[0;36minsert\u001b[1;34m(self, loc, column, value, allow_duplicates)\u001b[0m\n\u001b[0;32m   3494\u001b[0m         \u001b[0mself\u001b[0m\u001b[1;33m.\u001b[0m\u001b[0m_ensure_valid_index\u001b[0m\u001b[1;33m(\u001b[0m\u001b[0mvalue\u001b[0m\u001b[1;33m)\u001b[0m\u001b[1;33m\u001b[0m\u001b[1;33m\u001b[0m\u001b[0m\n\u001b[0;32m   3495\u001b[0m         \u001b[0mvalue\u001b[0m \u001b[1;33m=\u001b[0m \u001b[0mself\u001b[0m\u001b[1;33m.\u001b[0m\u001b[0m_sanitize_column\u001b[0m\u001b[1;33m(\u001b[0m\u001b[0mcolumn\u001b[0m\u001b[1;33m,\u001b[0m \u001b[0mvalue\u001b[0m\u001b[1;33m,\u001b[0m \u001b[0mbroadcast\u001b[0m\u001b[1;33m=\u001b[0m\u001b[1;32mFalse\u001b[0m\u001b[1;33m)\u001b[0m\u001b[1;33m\u001b[0m\u001b[1;33m\u001b[0m\u001b[0m\n\u001b[1;32m-> 3496\u001b[1;33m         \u001b[0mself\u001b[0m\u001b[1;33m.\u001b[0m\u001b[0m_data\u001b[0m\u001b[1;33m.\u001b[0m\u001b[0minsert\u001b[0m\u001b[1;33m(\u001b[0m\u001b[0mloc\u001b[0m\u001b[1;33m,\u001b[0m \u001b[0mcolumn\u001b[0m\u001b[1;33m,\u001b[0m \u001b[0mvalue\u001b[0m\u001b[1;33m,\u001b[0m \u001b[0mallow_duplicates\u001b[0m\u001b[1;33m=\u001b[0m\u001b[0mallow_duplicates\u001b[0m\u001b[1;33m)\u001b[0m\u001b[1;33m\u001b[0m\u001b[1;33m\u001b[0m\u001b[0m\n\u001b[0m\u001b[0;32m   3497\u001b[0m \u001b[1;33m\u001b[0m\u001b[0m\n\u001b[0;32m   3498\u001b[0m     \u001b[1;32mdef\u001b[0m \u001b[0massign\u001b[0m\u001b[1;33m(\u001b[0m\u001b[0mself\u001b[0m\u001b[1;33m,\u001b[0m \u001b[1;33m**\u001b[0m\u001b[0mkwargs\u001b[0m\u001b[1;33m)\u001b[0m \u001b[1;33m->\u001b[0m \u001b[1;34m\"DataFrame\"\u001b[0m\u001b[1;33m:\u001b[0m\u001b[1;33m\u001b[0m\u001b[1;33m\u001b[0m\u001b[0m\n",
      "\u001b[1;32m~\\Anaconda3\\lib\\site-packages\\pandas\\core\\internals\\managers.py\u001b[0m in \u001b[0;36minsert\u001b[1;34m(self, loc, item, value, allow_duplicates)\u001b[0m\n\u001b[0;32m   1171\u001b[0m         \u001b[1;32mif\u001b[0m \u001b[1;32mnot\u001b[0m \u001b[0mallow_duplicates\u001b[0m \u001b[1;32mand\u001b[0m \u001b[0mitem\u001b[0m \u001b[1;32min\u001b[0m \u001b[0mself\u001b[0m\u001b[1;33m.\u001b[0m\u001b[0mitems\u001b[0m\u001b[1;33m:\u001b[0m\u001b[1;33m\u001b[0m\u001b[1;33m\u001b[0m\u001b[0m\n\u001b[0;32m   1172\u001b[0m             \u001b[1;31m# Should this be a different kind of error??\u001b[0m\u001b[1;33m\u001b[0m\u001b[1;33m\u001b[0m\u001b[1;33m\u001b[0m\u001b[0m\n\u001b[1;32m-> 1173\u001b[1;33m             \u001b[1;32mraise\u001b[0m \u001b[0mValueError\u001b[0m\u001b[1;33m(\u001b[0m\u001b[1;34mf\"cannot insert {item}, already exists\"\u001b[0m\u001b[1;33m)\u001b[0m\u001b[1;33m\u001b[0m\u001b[1;33m\u001b[0m\u001b[0m\n\u001b[0m\u001b[0;32m   1174\u001b[0m \u001b[1;33m\u001b[0m\u001b[0m\n\u001b[0;32m   1175\u001b[0m         \u001b[1;32mif\u001b[0m \u001b[1;32mnot\u001b[0m \u001b[0misinstance\u001b[0m\u001b[1;33m(\u001b[0m\u001b[0mloc\u001b[0m\u001b[1;33m,\u001b[0m \u001b[0mint\u001b[0m\u001b[1;33m)\u001b[0m\u001b[1;33m:\u001b[0m\u001b[1;33m\u001b[0m\u001b[1;33m\u001b[0m\u001b[0m\n",
      "\u001b[1;31mValueError\u001b[0m: cannot insert name, already exists"
     ]
    }
   ],
   "source": [
    "# 增加数据\n",
    "df1 = pd.DataFrame([['Snow','M',22],['Tyrion','M',32],['Sansa','F',18],['Arya','F',14]],\n",
    "                   columns=['name','gender','age'])\n",
    "\n",
    "print(df1)\n",
    "# iloc , 名字, 值 \n",
    "df1.insert(2,'name',[80,98,67,90])\n",
    "print(df1)"
   ]
  },
  {
   "cell_type": "code",
   "execution_count": 77,
   "metadata": {},
   "outputs": [
    {
     "name": "stdout",
     "output_type": "stream",
     "text": [
      "     name gender  age\n",
      "0    Snow      M   22\n",
      "1  Tyrion      M   32\n",
      "2   Sansa      F   18\n",
      "3    Arya      F   14\n"
     ]
    }
   ],
   "source": [
    "# 增加数据\n",
    "df1 = pd.DataFrame([['Snow','M',22],['Tyrion','M',32],['Sansa','F',18],['Arya','F',14]],\n",
    "                   columns=['name','gender','age'])\n",
    "print(df1) "
   ]
  },
  {
   "cell_type": "code",
   "execution_count": 78,
   "metadata": {},
   "outputs": [
    {
     "name": "stdout",
     "output_type": "stream",
     "text": [
      "    name gender  age\n",
      "0   Snow      M   22\n",
      "1    111    222  333\n",
      "2  Sansa      F   18\n",
      "3   Arya      F   14\n"
     ]
    }
   ],
   "source": [
    "# 修改一行\n",
    "row=['111','222','333']\n",
    "df1.iloc[1]=row\n",
    "print(df1) "
   ]
  },
  {
   "cell_type": "code",
   "execution_count": 80,
   "metadata": {},
   "outputs": [
    {
     "name": "stdout",
     "output_type": "stream",
     "text": [
      "   name gender  age\n",
      "0  lisa      F   19\n",
      "    name gender  age\n",
      "0   Snow      M   22\n",
      "1    111    222  333\n",
      "2  Sansa      F   18\n",
      "3   Arya      F   14\n",
      "4   lisa      F   19\n",
      "5   lisa      F   19\n"
     ]
    }
   ],
   "source": [
    "# 先创建一个DataFrame，用来增加进数据框的最后一行\n",
    "new=pd.DataFrame({'name':'lisa',\n",
    "                  'gender':'F',\n",
    "                  'age':19\n",
    "                  },index=[0])\n",
    "print(new)\n",
    "# # print(\"-------在原数据框df1最后一行新增一行，用append方法------------\")\n",
    "df1=df1.append(new,ignore_index=True)   # ignore_index=False,表示不按原来的索引，从0开始自动递增\n",
    "print(df1)"
   ]
  },
  {
   "cell_type": "code",
   "execution_count": 83,
   "metadata": {},
   "outputs": [
    {
     "name": "stdout",
     "output_type": "stream",
     "text": [
      "   four  five\n",
      "0     0     1\n",
      "1     2     3\n",
      "2     4     5\n",
      "   one  two  three\n",
      "0    0    1      2\n",
      "1    3    4      5\n",
      "   four  five  one  two  three\n",
      "0     0     1  0.0  1.0    2.0\n",
      "1     2     3  3.0  4.0    5.0\n",
      "2     4     5  NaN  NaN    NaN\n",
      "   four  five  one  two  three\n",
      "0   0.0   1.0  NaN  NaN    NaN\n",
      "1   2.0   3.0  NaN  NaN    NaN\n",
      "2   4.0   5.0  NaN  NaN    NaN\n",
      "3   NaN   NaN  0.0  1.0    2.0\n",
      "4   NaN   NaN  3.0  4.0    5.0\n"
     ]
    }
   ],
   "source": [
    "# 合并\n",
    "'''\n",
    "objs:合并对象\n",
    "axis:合并方式，默认0表示按列合并，1表示按行合并\n",
    "ignore_index:是否忽略索引 \n",
    "'''\n",
    "df1 = pd.DataFrame(np.arange(6).reshape(3,2),columns=['four','five'])\n",
    "df2 = pd.DataFrame(np.arange(6).reshape(2,3),columns=['one','two','three'])\n",
    "print(df1)\n",
    "print(df2)\n",
    "\n",
    "# # 按行合并\n",
    "result = pd.concat([df1,df2],axis=1)\n",
    "print(result)\n",
    "\n",
    "# # 按列合并\n",
    "result = pd.concat([df1,df2],axis=0,ignore_index=True)\n",
    "print(result)"
   ]
  },
  {
   "cell_type": "code",
   "execution_count": 5,
   "metadata": {
    "scrolled": true
   },
   "outputs": [
    {
     "name": "stdout",
     "output_type": "stream",
     "text": [
      "   one  two  three\n",
      "0    0    1      2\n",
      "1    3    4      5\n",
      "2    6    7      8\n",
      "   one  two  three\n",
      "2    6    7      8\n"
     ]
    }
   ],
   "source": [
    "# DataFrame的删除\n",
    "'''\n",
    "lables：要删除数据的标签\n",
    "axis：0表示删除行，1表示删除列，默认0\n",
    "inplace:是否在当前df中执行此操作\n",
    "'''\n",
    "df2 = pd.DataFrame(np.arange(9).reshape(3,3),columns=['one','two','three'])\n",
    "print(df2)\n",
    "# df3=df2.drop(['one'],axis=1, inplace=False)\n",
    "# print(df3)\n",
    "df3=df2.drop([0,1],axis=0, inplace=False)\n",
    "# print(df2)\n",
    "print(df3)"
   ]
  },
  {
   "cell_type": "code",
   "execution_count": null,
   "metadata": {},
   "outputs": [],
   "source": []
  }
 ],
 "metadata": {
  "kernelspec": {
   "display_name": "Python 3",
   "language": "python",
   "name": "python3"
  },
  "language_info": {
   "codemirror_mode": {
    "name": "ipython",
    "version": 3
   },
   "file_extension": ".py",
   "mimetype": "text/x-python",
   "name": "python",
   "nbconvert_exporter": "python",
   "pygments_lexer": "ipython3",
   "version": "3.8.5"
  }
 },
 "nbformat": 4,
 "nbformat_minor": 4
}
