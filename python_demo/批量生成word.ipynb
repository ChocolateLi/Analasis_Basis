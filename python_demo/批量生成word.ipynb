{
 "cells": [
  {
   "cell_type": "code",
   "execution_count": 10,
   "metadata": {},
   "outputs": [
    {
     "data": {
      "text/plain": [
       "'cb'"
      ]
     },
     "execution_count": 10,
     "metadata": {},
     "output_type": "execute_result"
    }
   ],
   "source": [
    "\n",
    "\n",
    "my_str = \"ab\"\n",
    "result = my_str.replace('a','c')\n",
    "result"
   ]
  },
  {
   "cell_type": "code",
   "execution_count": 11,
   "metadata": {
    "scrolled": true
   },
   "outputs": [
    {
     "name": "stdout",
     "output_type": "stream",
     "text": [
      "  name    no    job   sale\n",
      "0   张三  1001   财务主管  20000\n",
      "1   李四  1002  数据分析师  30000\n",
      "2   王五  1003     HR  15000\n",
      "['name', 'no', 'job', 'sale']\n",
      "1001\n",
      "(3, 4)\n",
      "3\n",
      "4\n"
     ]
    },
    {
     "data": {
      "text/plain": [
       "3"
      ]
     },
     "execution_count": 11,
     "metadata": {},
     "output_type": "execute_result"
    }
   ],
   "source": [
    "# 批量生成word文件\n",
    "from docx import Document\n",
    "import pandas as pd\n",
    "\n",
    "# 1. 读取数据\n",
    "df = pd.read_excel('./datafile/姓名.xls','people')\n",
    "print(df)\n",
    "#取出列索引\n",
    "result = df.columns.tolist()\n",
    "print(result)\n",
    "#截取数据\n",
    "result = df.iloc[0,1]\n",
    "print(result)\n",
    "# 多少行多少列\n",
    "print(df.shape)\n",
    "# 多少行\n",
    "print(df.shape[0])\n",
    "# 多少列\n",
    "print(df.shape[1])\n",
    "# 多少行数据，一般很少用这个\n",
    "len(df)"
   ]
  },
  {
   "cell_type": "code",
   "execution_count": 13,
   "metadata": {},
   "outputs": [
    {
     "name": "stdout",
     "output_type": "stream",
     "text": [
      "收入证明\n",
      "\n",
      "兹证明    haha   为我公司员工, 工号    11   。 在本公司从事   22      工作，固定月工资为    hehe   元。\t\n",
      "\t我单位愿对以上内容的展示性承担相关责任。\n",
      "\t\t\n",
      " 单位（签章）：       \n",
      "\t\t\t\t\t年   月  日\n"
     ]
    }
   ],
   "source": [
    "from docx import Document\n",
    "\n",
    "doc = Document('./datafile/模板.docx')\n",
    "\n",
    "paragraphs = doc.paragraphs\n",
    "\n",
    "for paragraph in paragraphs:\n",
    "    print(paragraph.text)\n"
   ]
  },
  {
   "cell_type": "code",
   "execution_count": 18,
   "metadata": {},
   "outputs": [],
   "source": [
    "# 批量生成word文件\n",
    "from docx import Document\n",
    "import pandas as pd\n",
    "\n",
    "# 1. 读取数据\n",
    "df = pd.read_excel('./datafile/姓名.xls','people')\n",
    "\n",
    "#自定义替换的函数 \n",
    "#为什么需要两个参数:因为我们需要根据老数据,替换新数据\n",
    "def repalce_text(old_text,new_text):\n",
    "    \n",
    "    paragraphs = document.paragraphs\n",
    "    \n",
    "    for paragraph in paragraphs:\n",
    "        \n",
    "        for run in paragraph.runs:\n",
    "            #系统提供的内置方法 替换字符串的数据\n",
    "            #最简单的方式\n",
    "            run.text = run.text.replace(old_text,new_text)\n",
    "            \n",
    "\n",
    "\n",
    "# 行(有多少行就创建多少个合同)\n",
    "\n",
    "for row in range(0,df.shape[0]):\n",
    "    \n",
    "    document= Document('./datafile/模板.docx')\n",
    "    #列索引\n",
    "    my_col = df.columns.tolist() # ['name', 'no', 'job', 'sale']\n",
    "#     print(my_col)\n",
    "    #遍历多少列\n",
    "    for col in range(0,df.shape[1]):\n",
    "#         #取数据\n",
    "        new_text = df.iloc[row,col]\n",
    "#         print(new_text)\n",
    "\n",
    "#         #取出要替换的老数据\n",
    "        old_text = my_col[col]\n",
    "#         print(old_text)\n",
    "#         # 替换\n",
    "        repalce_text(str(old_text),str(new_text))\n",
    "\n",
    "#     #保存数据   \n",
    "    document.save('./datafile/{}.docx'.format(df.iloc[row,0]))"
   ]
  },
  {
   "cell_type": "code",
   "execution_count": null,
   "metadata": {},
   "outputs": [],
   "source": []
  }
 ],
 "metadata": {
  "kernelspec": {
   "display_name": "Python 3",
   "language": "python",
   "name": "python3"
  },
  "language_info": {
   "codemirror_mode": {
    "name": "ipython",
    "version": 3
   },
   "file_extension": ".py",
   "mimetype": "text/x-python",
   "name": "python",
   "nbconvert_exporter": "python",
   "pygments_lexer": "ipython3",
   "version": "3.8.5"
  }
 },
 "nbformat": 4,
 "nbformat_minor": 4
}
