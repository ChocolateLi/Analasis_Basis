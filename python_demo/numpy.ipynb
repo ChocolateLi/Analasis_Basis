{
 "cells": [
  {
   "cell_type": "code",
   "execution_count": null,
   "metadata": {
    "code_folding": [
     0
    ]
   },
   "outputs": [],
   "source": []
  },
  {
   "cell_type": "code",
   "execution_count": 1,
   "metadata": {
    "code_folding": []
   },
   "outputs": [
    {
     "name": "stdout",
     "output_type": "stream",
     "text": [
      "0.04691123962402344 0.020972490310668945\n"
     ]
    }
   ],
   "source": [
    "# 1. ndarray与Python原生list运算效率对比\n",
    "import random\n",
    "import time\n",
    "import numpy as np\n",
    "a = []\n",
    "for i in range(10000000):\n",
    "    \n",
    "    a.append(random.random())\n",
    "    \n",
    "t1 = time.time()\n",
    "sum1=sum(a)\n",
    "t2=time.time()\n",
    "\n",
    "b=np.array(a)\n",
    "t4=time.time()\n",
    "sum3=np.sum(b)\n",
    "t5=time.time()\n",
    "print(t2-t1, t5-t4)"
   ]
  },
  {
   "cell_type": "code",
   "execution_count": 24,
   "metadata": {
    "code_folding": [],
    "scrolled": true
   },
   "outputs": [
    {
     "name": "stdout",
     "output_type": "stream",
     "text": [
      "[1 2 3 4]\n",
      "<class 'numpy.ndarray'>\n",
      "(4,)\n",
      "[0 1 2 3 4 5 6 7 8 9]\n",
      "<class 'numpy.ndarray'>\n",
      "[0 2 4 6 8]\n",
      "<class 'numpy.ndarray'>\n"
     ]
    }
   ],
   "source": [
    "# 2. 创建一维数组\n",
    "\n",
    "import numpy as np\n",
    "\n",
    "list1 = [1,2,3,4]\n",
    "oneArray = np.array(list1)\n",
    "print(oneArray)\n",
    "print(type(oneArray))\n",
    "print(oneArray.shape)\n",
    "\n",
    "\n",
    "t2 = np.array(range(10))\n",
    "print(t2)\n",
    "print(type(t2))\n",
    "\n",
    "t3 = np.arange(0,10,2)\n",
    "print(t3)\n",
    "print(type(t3))"
   ]
  },
  {
   "cell_type": "code",
   "execution_count": 7,
   "metadata": {
    "code_folding": []
   },
   "outputs": [
    {
     "name": "stdout",
     "output_type": "stream",
     "text": [
      "[[1, 2], [3, 4], [5, 6]]\n",
      "[[1 2]\n",
      " [3 4]\n",
      " [5 6]]\n",
      "(3, 2)\n"
     ]
    }
   ],
   "source": [
    "# 3. 创建二维数组\n",
    "#读取数据源 numpy \n",
    "import numpy as np\n",
    "list2 = [[1,2],[3,4],[5,6]]\n",
    "print(list2)\n",
    "\n",
    "twoArray = np.array(list2)\n",
    "print(twoArray)\n",
    "print(twoArray.shape)\n"
   ]
  },
  {
   "cell_type": "code",
   "execution_count": 12,
   "metadata": {
    "code_folding": []
   },
   "outputs": [
    {
     "name": "stdout",
     "output_type": "stream",
     "text": [
      "2\n",
      "(3, 2)\n",
      "3\n",
      "2\n",
      "6\n"
     ]
    }
   ],
   "source": [
    "# 4. 常用属性\n",
    "list2 = [[1,2],[3,4],[5,6]]\n",
    "\n",
    "twoArray = np.array(list2)\n",
    "# 获取数组的维度\n",
    "print(twoArray.ndim)\n",
    "\n",
    "# # 形状\n",
    "print(twoArray.shape)\n",
    "\n",
    "# 取行数\n",
    "print(twoArray.shape[0])\n",
    "\n",
    "# 取列数\n",
    "print(twoArray.shape[1])\n",
    "\n",
    "\n",
    "# # # 有多少个元素\n",
    "print(twoArray.size)"
   ]
  },
  {
   "cell_type": "code",
   "execution_count": 30,
   "metadata": {
    "code_folding": []
   },
   "outputs": [
    {
     "name": "stdout",
     "output_type": "stream",
     "text": [
      "[ 0  1  2  3  4  5  6  7  8  9 10 11 12 13 14 15 16 17 18 19 20 21 22 23]\n",
      "(24,)\n",
      "[[ 0  1  2  3  4  5]\n",
      " [ 6  7  8  9 10 11]\n",
      " [12 13 14 15 16 17]\n",
      " [18 19 20 21 22 23]]\n",
      "(4, 6)\n",
      "[[[ 0  1  2  3]\n",
      "  [ 4  5  6  7]\n",
      "  [ 8  9 10 11]]\n",
      "\n",
      " [[12 13 14 15]\n",
      "  [16 17 18 19]\n",
      "  [20 21 22 23]]]\n",
      "(2, 3, 4)\n"
     ]
    }
   ],
   "source": [
    "# 5. 调整数组的形状\n",
    "\n",
    "four = np.array([[1,2,3],[4,5,6]]) \n",
    "print(four)\n",
    "print(four.shape)\n",
    "# 修改的是原有的\n",
    "four.shape = (3,2)\n",
    "print(four)\n",
    "\n",
    "four_other = np.array([[1,2,3],[4,5,6]]) \n",
    "\n",
    "four_other_new = four.reshape(3,2)\n",
    "\n",
    "print(four_other)\n",
    "print(four_other_new)\n",
    "\n",
    "# (6,)\n",
    "# 将多维变成一维数组\n",
    "five = four.reshape((6,),order='C')\n",
    "\n",
    "# # # 默认情况下‘C’以行为主的顺序展开，‘F’（Fortran风格）意味着以列的顺序展开\n",
    "six = four.flatten(order='F')\n",
    "print(five)\n",
    "print(six)\n",
    "\n",
    "t = np.arange(24)\n",
    "print(t)\n",
    "print(t.shape)\n",
    "# # 转换成二维\n",
    "t1 = t.reshape((4,6),order='C')\n",
    "print(t1)\n",
    "print(t1.shape)\n",
    "# # 转成三维\n",
    "t2 = t.reshape((2,3,4))\n",
    "print(t2)\n",
    "print(t2.shape)"
   ]
  },
  {
   "cell_type": "code",
   "execution_count": 29,
   "metadata": {
    "code_folding": []
   },
   "outputs": [
    {
     "name": "stdout",
     "output_type": "stream",
     "text": [
      "[9, 12, 88, 14, 25]\n",
      "<class 'list'>\n"
     ]
    }
   ],
   "source": [
    "# 6. 将数组转成list\n",
    "a= np.array([9, 12, 88, 14, 25])\n",
    "\n",
    "list_a = a.tolist()\n",
    "print(list_a)\n",
    "print(type(list_a))"
   ]
  },
  {
   "cell_type": "code",
   "execution_count": 35,
   "metadata": {
    "code_folding": []
   },
   "outputs": [
    {
     "name": "stdout",
     "output_type": "stream",
     "text": [
      "4\n",
      "int32\n",
      "8\n",
      "float64\n"
     ]
    }
   ],
   "source": [
    "# 7. 数据类型\n",
    "# np.int 默认是32位的\n",
    "f = np.array([1,2,3,4,5], dtype = np.int)\n",
    "# 返回数组中每个元素的字节单位长度\n",
    "print(f.itemsize)\n",
    "# 获取数据类型\n",
    "print(f.dtype)\n",
    "\n",
    "# 调整数据类型\n",
    "# np.float 默认是64位的\n",
    "f1 = f.astype(np.float)\n",
    "print(f1.itemsize)\n",
    "print(f1.dtype)"
   ]
  },
  {
   "cell_type": "code",
   "execution_count": 36,
   "metadata": {
    "code_folding": []
   },
   "outputs": [
    {
     "name": "stdout",
     "output_type": "stream",
     "text": [
      "[0 1 2 3 4 5 6 7 8 9]\n",
      "[2 4 6]\n",
      "2 [0 1 2 3 4 5 6 7 8 9]\n"
     ]
    }
   ],
   "source": [
    "# 8. 一维数组的切片\n",
    "import numpy as np\n",
    "a = np.arange(10)\n",
    "\n",
    "print(a)\n",
    "# 冒号分隔切片参数 start:stop:step 来进行切片操作\n",
    "print(a[2:7:2])# 从索引 2 开始到索引 7 停止，间隔为 2\n",
    "\n",
    "# 如果只放置一个参数，如 [2]，将返回与该索引相对应的单个元素\n",
    "print(a[2],a)"
   ]
  },
  {
   "cell_type": "code",
   "execution_count": 45,
   "metadata": {
    "code_folding": []
   },
   "outputs": [
    {
     "name": "stdout",
     "output_type": "stream",
     "text": [
      "[[ 0  1  2  3  4  5]\n",
      " [ 6  7  8  9 10 11]\n",
      " [12 13 14 15 16 17]\n",
      " [18 19 20 21 22 23]]\n",
      "********************\n",
      "[ 6  7  8  9 10 11]\n",
      "[ 6  7  8  9 10 11]\n",
      "********************\n",
      "[[ 6  7  8  9 10 11]\n",
      " [12 13 14 15 16 17]\n",
      " [18 19 20 21 22 23]]\n",
      "[[ 6  7  8  9 10 11]\n",
      " [12 13 14 15 16 17]]\n",
      "********************\n",
      "[[ 0  1  2  3  4  5]\n",
      " [12 13 14 15 16 17]\n",
      " [18 19 20 21 22 23]]\n",
      "[[ 0  1  2  3  4  5]\n",
      " [12 13 14 15 16 17]\n",
      " [18 19 20 21 22 23]]\n",
      "********************\n",
      "[ 1  7 13 19]\n",
      "[[ 1  2  3  4  5]\n",
      " [ 7  8  9 10 11]\n",
      " [13 14 15 16 17]\n",
      " [19 20 21 22 23]]\n",
      "[[ 0  2  3]\n",
      " [ 6  8  9]\n",
      " [12 14 15]\n",
      " [18 20 21]]\n",
      "15\n",
      "[0 7 9]\n"
     ]
    }
   ],
   "source": [
    "# 9. 多维数组的切片\n",
    "#第一个重点\n",
    "import numpy as np\n",
    "t1 = np.arange(24).reshape(4,6)\n",
    "print(t1)\n",
    "print('*'*20)\n",
    "# array[行,列]\n",
    "\n",
    "print(t1[1]) # 取一行(一行代表是一条数据，索引也是从0开始的)\n",
    "print(t1[1,:]) # 取一行\n",
    "print('*'*20)\n",
    "\n",
    "print(t1[1:])# 取连续的多行\n",
    "print(t1[1:3,:])# 取连续的多行\n",
    "print('*'*20)\n",
    "\n",
    "print(t1[[0,2,3]])# 取不连续的多行\n",
    "print(t1[[0,2,3],:])# 取不连续的多行\n",
    "print('*'*20)\n",
    "\n",
    "print(t1[:,1])# 取一列\n",
    "print(t1[:,1:])# 连续的多列\n",
    "print(t1[:,[0,2,3]])# 取不连续的多列\n",
    "print(t1[2,3])# # 取某一个值,三行四列\n",
    "print(t1[[0,1,1],[0,1,3]])# 取多个不连续的值，[[行，行。。。],[列，列。。。]]"
   ]
  },
  {
   "cell_type": "code",
   "execution_count": 51,
   "metadata": {
    "code_folding": []
   },
   "outputs": [
    {
     "name": "stdout",
     "output_type": "stream",
     "text": [
      "[[ 0  1  2  3  4  5]\n",
      " [ 6  7  8  9 10 11]\n",
      " [12 13 14 15 16 17]\n",
      " [18 19 20 21 22 23]]\n",
      "[[ 0  0  0  0  0  0]\n",
      " [ 0  7  8  9 10 11]\n",
      " [12 13 14 15 16 17]\n",
      " [18 19 20 21 22 23]]\n"
     ]
    }
   ],
   "source": [
    "# 10. 根据条件取值\n",
    "#第二个重点:\n",
    "t = np.arange(24).reshape(4,6)\n",
    "\n",
    "print(t)\n",
    "\n",
    "\n",
    "# 可以根据条件修改，比如讲小于10的值改掉\n",
    "t[t<10]=0\n",
    "print(t[t<10])\n",
    "# #非0即真\n",
    "# # 0 false 1true\n",
    "# if 0: \n",
    "#     print('hahah')\n",
    "# if '1010010': \n",
    "#     print('hehe')\n",
    "\n",
    "\n",
    "t[(t>2)&(t<6)]=0   # 与  and or not \n",
    "t[(t<2)|(t>6)]=1   # 或\n",
    "t[~(t>6)]=0   # 非\n",
    "print(t)\n",
    "\n",
    "\n"
   ]
  },
  {
   "cell_type": "code",
   "execution_count": null,
   "metadata": {
    "code_folding": []
   },
   "outputs": [],
   "source": [
    "# 暗号\n",
    "import random\n",
    "# 后八位\n",
    "argot = ''\n",
    "for index in range(4):\n",
    "    argot = argot + str(random.randint(0,9))\n",
    "print(argot)"
   ]
  },
  {
   "cell_type": "code",
   "execution_count": 58,
   "metadata": {
    "code_folding": [],
    "scrolled": true
   },
   "outputs": [
    {
     "name": "stdout",
     "output_type": "stream",
     "text": [
      "[[1 2 3]\n",
      " [4 5 6]]\n",
      "21\n",
      "[5 7 9]\n",
      "[ 6 15]\n",
      "[[[ 0  1  2]\n",
      "  [ 3  4  5]\n",
      "  [ 6  7  8]]\n",
      "\n",
      " [[ 9 10 11]\n",
      "  [12 13 14]\n",
      "  [15 16 17]]\n",
      "\n",
      " [[18 19 20]\n",
      "  [21 22 23]\n",
      "  [24 25 26]]]\n",
      "[[ 3 12 21]\n",
      " [30 39 48]\n",
      " [57 66 75]]\n"
     ]
    }
   ],
   "source": [
    "# 11. 轴\n",
    "import numpy as np\n",
    "\n",
    "# 二维\n",
    "a = np.array([[1,2,3],[4,5,6]])\n",
    "print(a)\n",
    "print(np.sum(a))\n",
    "#0轴是列 纵向取\n",
    "print(np.sum(a,axis=0)) # [5 7 9]\n",
    "#1轴是行 横向取\n",
    "print(np.sum(a,axis = 1)) # [ 6 15]\n",
    "\n",
    "# # 三维\n",
    "a = np.arange(27).reshape((3,3,3))\n",
    "print(a)\n",
    "\n",
    "# print(np.sum(a, axis=0))\n",
    "# print(np.sum(a, axis=1))\n",
    "print(np.sum(a, axis=2))\n"
   ]
  },
  {
   "cell_type": "code",
   "execution_count": 91,
   "metadata": {
    "code_folding": []
   },
   "outputs": [
    {
     "name": "stdout",
     "output_type": "stream",
     "text": [
      "[[ 0  1  2  3]\n",
      " [ 4  5  6  7]\n",
      " [ 8  9 10 11]\n",
      " [12 13 14 15]\n",
      " [16 17 18 19]\n",
      " [20 21 22 23]]\n",
      "[[ 2  3  4  5]\n",
      " [ 6  7  8  9]\n",
      " [10 11 12 13]\n",
      " [14 15 16 17]\n",
      " [18 19 20 21]\n",
      " [22 23 24 25]]\n",
      "[[ 0  2  4  6]\n",
      " [ 8 10 12 14]\n",
      " [16 18 20 22]\n",
      " [24 26 28 30]\n",
      " [32 34 36 38]\n",
      " [40 42 44 46]]\n",
      "[[ 0  1  2  3]\n",
      " [ 4  5  6  7]\n",
      " [ 8  9 10 11]\n",
      " [12 13 14 15]\n",
      " [16 17 18 19]\n",
      " [20 21 22 23]]\n",
      "[[100 101 102 103]\n",
      " [104 105 106 107]\n",
      " [108 109 110 111]\n",
      " [112 113 114 115]\n",
      " [116 117 118 119]\n",
      " [120 121 122 123]]\n",
      "[[100 102 104 106]\n",
      " [108 110 112 114]\n",
      " [116 118 120 122]\n",
      " [124 126 128 130]\n",
      " [132 134 136 138]\n",
      " [140 142 144 146]]\n",
      "[[ 0  1  2  3  4  5]\n",
      " [ 6  7  8  9 10 11]\n",
      " [12 13 14 15 16 17]\n",
      " [18 19 20 21 22 23]]\n",
      "[0 1 2 3 4 5]\n",
      "[[ 0  2  4  6  8 10]\n",
      " [ 6  8 10 12 14 16]\n",
      " [12 14 16 18 20 22]\n",
      " [18 20 22 24 26 28]]\n",
      "[[ 0  1  2  3  4  5]\n",
      " [ 6  7  8  9 10 11]\n",
      " [12 13 14 15 16 17]\n",
      " [18 19 20 21 22 23]]\n",
      "[[0]\n",
      " [1]\n",
      " [2]\n",
      " [3]]\n",
      "[[ 0  1  2  3  4  5]\n",
      " [ 7  8  9 10 11 12]\n",
      " [14 15 16 17 18 19]\n",
      " [21 22 23 24 25 26]]\n"
     ]
    }
   ],
   "source": [
    "# 12. 数组的计算\n",
    "\n",
    "# （1）数组与数的计算\n",
    "t1 = np.arange(24).reshape((6,4))\n",
    "print(t1)\n",
    "print(t1+2)\n",
    "print(t1*2)\n",
    "\n",
    "# # （2）同种形状的数组(对应位置进行计算操作)\n",
    "t1 = np.arange(24).reshape((6,4))\n",
    "t2 = np.arange(100,124).reshape((6,4))\n",
    "print(t1)\n",
    "print(t2)\n",
    "print(t1+t2)\n",
    "# print(t1*t2)\n",
    "\n",
    "# （3）不种形状的多维数组不能计算\n",
    "# t1 = np.arange(24).reshape((4,6))\n",
    "# t2 = np.arange(6).reshape((2,3))\n",
    "# print(t1)\n",
    "# print(t2)\n",
    "# print(t1-t2)\n",
    "\n",
    "# （4）行数或者列数相同的一维数组和多维数组可以进行计算\n",
    "\n",
    "# 行形状相同（会与每一行数组的对应位相操作)\n",
    "t1 = np.arange(24).reshape((4,6))\n",
    "t2 = np.arange(0,6)\n",
    "print(t1)\n",
    "print(t2)\n",
    "print(t1+t2)\n",
    "\n",
    "# 行对行进行相加\n",
    "t1 = np.arange(24).reshape((4,6))\n",
    "t2 = np.arange(4).reshape((4,1))\n",
    "print(t1)\n",
    "print(t2)\n",
    "print(t1+t2)"
   ]
  },
  {
   "cell_type": "code",
   "execution_count": 107,
   "metadata": {},
   "outputs": [
    {
     "name": "stdout",
     "output_type": "stream",
     "text": [
      "[[80 81]\n",
      " [75 86]\n",
      " [90 80]]\n",
      "90\n",
      "[90 86]\n",
      "82.0\n",
      "[81.66666667 82.33333333]\n",
      "[80.5 80.5 85. ]\n",
      "[ 0.25 30.25 25.  ]\n",
      "[0.5 5.5 5. ]\n",
      "15\n"
     ]
    }
   ],
   "source": [
    "import numpy as np\n",
    "score = np.array([[80,81],[75,86],[90,80]])\n",
    "print(score)\n",
    "\n",
    "# 获取最大值 最小值min()\n",
    "print(score.max())\n",
    "# 获取轴的最大值\n",
    "print(score.max(axis=0))\n",
    "\n",
    "# 获取平均值\n",
    "print(score.mean())\n",
    "# 获取轴的平均值\n",
    "print(score.mean(axis = 0))\n",
    "print(score.mean(axis = 1))\n",
    "\n",
    "# 获取方差\n",
    "print(score.var(axis = 1))\n",
    "\n",
    "# 获取标准差\n",
    "# 标准差是一组数组平均值的分散程度的度量。标准差越小代表数据越稳定\n",
    "print(score.std(axis = 1))\n",
    "\n",
    "# 获取极值。即最大值和最小值的差\n",
    "print(score.ptp(axis=None))\n",
    "\n"
   ]
  },
  {
   "cell_type": "code",
   "execution_count": 68,
   "metadata": {
    "code_folding": []
   },
   "outputs": [
    {
     "name": "stdout",
     "output_type": "stream",
     "text": [
      "第一个数组：\n",
      "[[1 2 3]\n",
      " [4 5 6]]\n",
      "\n",
      "\n",
      "向数组添加元素：\n",
      "[1 2 3 4 5 6 7 8 9]\n",
      "\n",
      "\n",
      "沿轴 0 添加元素：\n",
      "[[ 1  2  3]\n",
      " [ 4  5  6]\n",
      " [ 7  8  9]\n",
      " [10 11 12]]\n",
      "\n",
      "\n",
      "沿轴 1 添加元素：\n",
      "[[1 2 3 5 5 5]\n",
      " [4 5 6 7 8 9]]\n"
     ]
    }
   ],
   "source": [
    "# 13. 数组添加\n",
    "a = np.array([[1,2,3],[4,5,6]])\n",
    " \n",
    "print ('第一个数组：')\n",
    "print (a)\n",
    "print ('\\n')\n",
    "\n",
    "# append方法如果未指定axis参数，会把数组铺平，然后把数添加到后面\n",
    "print ('向数组添加元素：')\n",
    "print (np.append(a, [7,8,9]))\n",
    "print ('\\n')\n",
    "\n",
    " \n",
    "print ('沿轴 0 添加元素：')\n",
    "print (np.append(a, [[7,8,9],[10,11,12]],axis = 0))\n",
    "print ('\\n')\n",
    " \n",
    "print ('沿轴 1 添加元素：')\n",
    "print (np.append(a, [[5,5,5],[7,8,9]],axis = 1))\n",
    " "
   ]
  },
  {
   "cell_type": "code",
   "execution_count": 72,
   "metadata": {
    "code_folding": []
   },
   "outputs": [
    {
     "name": "stdout",
     "output_type": "stream",
     "text": [
      "第一个数组：\n",
      "[[1 2]\n",
      " [3 4]\n",
      " [5 6]]\n",
      "\n",
      "\n",
      "未传递 Axis 参数。 在插入之前输入数组会被展开。\n",
      "[ 1  2  3 11 12  4  5  6]\n",
      "\n",
      "\n",
      "传递了 Axis 参数。 会广播值数组来配输入数组。\n",
      "沿轴 0 广播：\n",
      "[[ 1  2]\n",
      " [11 12]\n",
      " [ 3  4]\n",
      " [ 5  6]]\n",
      "\n",
      "\n",
      "沿轴 1 广播：\n",
      "[[ 1 11  2]\n",
      " [ 3 11  4]\n",
      " [ 5 11  6]]\n"
     ]
    }
   ],
   "source": [
    "# 14. 函数在给定索引之前，沿给定轴在输入数组中插入值\n",
    "a = np.array([[1,2],[3,4],[5,6]])\n",
    " \n",
    "print ('第一个数组：')\n",
    "print (a)\n",
    "print ('\\n')\n",
    " \n",
    "print ('未传递 Axis 参数。 在插入之前输入数组会被展开。')\n",
    "print (np.insert(a,3,[11,12]))\n",
    "print ('\\n')\n",
    "\n",
    "print ('传递了 Axis 参数。 会广播值数组来配输入数组。')\n",
    " \n",
    "print ('沿轴 0 广播：')\n",
    "print (np.insert(a,1,[11,12],axis = 0))\n",
    "print ('\\n')\n",
    " \n",
    "print ('沿轴 1 广播：')\n",
    "print (np.insert(a,1,11,axis = 1))"
   ]
  },
  {
   "cell_type": "code",
   "execution_count": 108,
   "metadata": {
    "code_folding": []
   },
   "outputs": [
    {
     "name": "stdout",
     "output_type": "stream",
     "text": [
      "第一个数组：\n",
      "[[ 0  1  2  3]\n",
      " [ 4  5  6  7]\n",
      " [ 8  9 10 11]]\n",
      "\n",
      "\n",
      "未传递 Axis 参数。 在删除之前输入数组会被展开。\n",
      "[ 0  1  2  3  4  6  7  8  9 10 11]\n",
      "\n",
      "\n",
      "删除每一行中的第二列：\n",
      "[[ 0  2  3]\n",
      " [ 4  6  7]\n",
      " [ 8 10 11]]\n",
      "\n",
      "\n",
      "删除每一列中的第二行：\n",
      "[[ 0  1  2  3]\n",
      " [ 8  9 10 11]]\n",
      "\n",
      "\n"
     ]
    }
   ],
   "source": [
    "# 15. 数组中的删除\n",
    "#敲一遍,(研究0轴和一轴)\n",
    "\n",
    "a = np.arange(12).reshape(3,4)\n",
    " \n",
    "print ('第一个数组：')\n",
    "print (a)\n",
    "print ('\\n')\n",
    " \n",
    "print ('未传递 Axis 参数。 在删除之前输入数组会被展开。')\n",
    "print (np.delete(a,5))\n",
    "print ('\\n')\n",
    " \n",
    "print ('删除每一行中的第二列：')\n",
    "print (np.delete(a,1,axis = 1))\n",
    "print ('\\n')\n",
    "\n",
    "print ('删除每一列中的第二行：')\n",
    "print (np.delete(a,1,axis = 0))\n",
    "print ('\\n')"
   ]
  },
  {
   "cell_type": "code",
   "execution_count": 118,
   "metadata": {},
   "outputs": [
    {
     "name": "stdout",
     "output_type": "stream",
     "text": [
      "[5 2 6 2 7 5 9 2 8]\n",
      "\n",
      "\n",
      "[2 5 6 7 8 9]\n",
      "\n",
      "\n",
      "[2 5 6 7 8 9]\n",
      "[1 0 2 4 8 6]\n",
      "\n",
      "\n",
      "[2 5 6 7 8 9]\n",
      "[1 0 2 0 3 1 5 0 4]\n",
      "\n",
      "\n",
      "(array([2, 5, 6, 7, 8, 9]), array([3, 2, 1, 1, 1, 1], dtype=int64))\n"
     ]
    }
   ],
   "source": [
    "a = np.array([5,2,6,2,7,5,9,2,8])\n",
    "print(a)\n",
    "print('\\n')\n",
    "\n",
    "# np.unique()用于去除数组中的重复元素\n",
    "'''\n",
    "如下参数：\n",
    "arr：输入数组，如果不是一维数组则会展开\n",
    "return_index:如果为true,返回新列表元素在旧列表元素下标位置，并以列表形式存储\n",
    "return_inverse:如果为true，返回旧列表元素在新列表元素的下标位置，并以列表形式存储\n",
    "return_counts:如果为true，返回去重数组在原数组中出现的次数\n",
    "'''\n",
    "\n",
    "u = np.unique(a)# 会自动进行升序排序\n",
    "print(u)\n",
    "print('\\n')\n",
    "\n",
    "x,index = np.unique(a,return_index=True)\n",
    "print(x)\n",
    "print(index)\n",
    "print('\\n')\n",
    "\n",
    "y,index = np.unique(a,return_inverse=True)\n",
    "print(y)\n",
    "print(index)\n",
    "print('\\n')\n",
    "\n",
    "count = np.unique(a,return_counts=True)\n",
    "# print(z)\n",
    "print(count)"
   ]
  },
  {
   "cell_type": "code",
   "execution_count": null,
   "metadata": {},
   "outputs": [],
   "source": []
  },
  {
   "cell_type": "code",
   "execution_count": 90,
   "metadata": {
    "code_folding": [],
    "scrolled": true
   },
   "outputs": [
    {
     "name": "stdout",
     "output_type": "stream",
     "text": [
      "[[ 0.  1.  2.  3.  4.  5.]\n",
      " [ 6.  7.  8.  9. 10. 11.]\n",
      " [12. 13. 14. 15. 16. 17.]\n",
      " [18. 19. 20. 21. 22. 23.]]\n",
      "23\n",
      "[[nan  1.  2.  3.  4.  5.]\n",
      " [ 6.  7.  8.  9. 10. 11.]\n",
      " [12. 13. 14. 15. 16. 17.]\n",
      " [18. 19. 20. 21. nan 23.]]\n",
      "24\n",
      "False\n",
      "24\n",
      "4\n"
     ]
    }
   ],
   "source": [
    "# 16. 数组中的nan\n",
    "# 创建一个nan\n",
    "# a = np.nan\n",
    "# print(a,type(a))\n",
    "\n",
    "#特性:(1)float类型 \n",
    "    #(2)nan != nan 返回True\n",
    "\n",
    "\n",
    "# # --判断数组中为nan的个数(注意：float类型的数据才能赋值nan)\n",
    "\n",
    "t = np.arange(24,dtype=float).reshape(4,6)\n",
    "print(t)\n",
    "\n",
    "\n",
    "# 可以使用np.count_nonzero() 来判断非零的个数，nan不是零值\n",
    "#24条数据\n",
    "print(np.count_nonzero(t))\n",
    "\n",
    "# # 将三行四列的数改成nan\n",
    "t[3,4] = np.nan\n",
    "t[0,0] = np.nan\n",
    "\n",
    "print(t)\n",
    "print(np.count_nonzero(t))\n",
    "# print(t)\n",
    "\n",
    "#确定nan的个数\n",
    "\n",
    "# # 注意： nan和任何数计算都为nan\n",
    "# print(np.sum(t,axis=0))\n",
    "# 0 == 0 \n",
    "# if nan == nan :\n",
    "# # 并且 np.nan != np.nan  结果 是TRUE\n",
    "\n",
    "print(np.nan == np.nan)\n",
    "\n",
    "\n",
    "# # 所以我们可以使用这两个结合使用判断nan的个数\n",
    "\n",
    "\n",
    "#判断nan 的个数\n",
    "# 提供方法\n",
    "#nan != nan\n",
    "\n",
    "# [1,2,3,4,5,nan]!= [1,2,3,4,5,nan]  # ----> [True,True...False] --- > [1,1,1,1,0]\n",
    "\n",
    "\n",
    "print(np.count_nonzero(t[np.nan != np.nan]))\n",
    "print(np.count_nonzero([1,1,1,1,0]))  #非0个数 所以是1个\n"
   ]
  },
  {
   "cell_type": "code",
   "execution_count": 108,
   "metadata": {
    "code_folding": [],
    "scrolled": false
   },
   "outputs": [
    {
     "name": "stdout",
     "output_type": "stream",
     "text": [
      "[[ 0.  1.  2.  3.  4.  5.]\n",
      " [ 6.  7.  8. nan nan nan]\n",
      " [12. 13. 14. 15. 16. 17.]\n",
      " [18. 19. 20. 21. 22. 23.]]\n",
      "[[ 0.  1.  2.  3.  4.  5.]\n",
      " [ 6.  7.  8.  0.  0.  0.]\n",
      " [12. 13. 14. 15. 16. 17.]\n",
      " [18. 19. 20. 21. 22. 23.]]\n"
     ]
    }
   ],
   "source": [
    "#----------练习： 处理数组中nan\n",
    "t = np.arange(24).reshape(4,6).astype('float') \n",
    "# 将数组中的一部分替换nan\n",
    "t[1,3:] = np.nan\n",
    "print(t)\n",
    "\n",
    "#pandas 处理nan的方法\n",
    "\n",
    "\n",
    "# # 遍历每一列，然后判断每一列是否有nan\n",
    "for i in range(t.shape[1]):\n",
    "# #获取当前列数据\n",
    "    temp_col = t[:,i]\n",
    "#     print(temp_col)\n",
    "# # # 判断当前列的数据中是否含有nan\n",
    "    nan_num = np.count_nonzero(temp_col != temp_col) \n",
    "    \n",
    "    if nan_num != 0: # 条件成立说明含有nan\n",
    "\n",
    "# # # 将这一列不为nan的数据拿出来\n",
    "#         temp_col_not_nan = temp_col[temp_col==temp_col]\n",
    "#         print(temp_col_not_nan)\n",
    "# # # 将nan替换成这一列的平均值\n",
    "#         print(temp_col[np.isnan(temp_col)])\n",
    "#         temp_col[np.isnan(temp_col)] = np.mean(temp_col_not_nan)\n",
    "        temp_col[np.isnan(temp_col)] = 0\n",
    "\n",
    "print(t)"
   ]
  },
  {
   "cell_type": "code",
   "execution_count": null,
   "metadata": {},
   "outputs": [],
   "source": [
    "np.isnan(temp_col)"
   ]
  }
 ],
 "metadata": {
  "kernelspec": {
   "display_name": "Python 3",
   "language": "python",
   "name": "python3"
  },
  "language_info": {
   "codemirror_mode": {
    "name": "ipython",
    "version": 3
   },
   "file_extension": ".py",
   "mimetype": "text/x-python",
   "name": "python",
   "nbconvert_exporter": "python",
   "pygments_lexer": "ipython3",
   "version": "3.8.5"
  }
 },
 "nbformat": 4,
 "nbformat_minor": 4
}
